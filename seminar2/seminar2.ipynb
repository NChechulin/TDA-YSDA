{
 "cells": [
  {
   "cell_type": "markdown",
   "metadata": {},
   "source": [
    "# TDA@YSDA\n",
    "## Seminar 2"
   ]
  },
  {
   "cell_type": "code",
   "execution_count": null,
   "metadata": {},
   "outputs": [],
   "source": [
    "%matplotlib inline\n",
    "import matplotlib.pyplot as plt\n",
    "\n",
    "import numpy as np\n",
    "from scipy.linalg import block_diag\n",
    "\n",
    "import simplicial\n",
    "import simplicial.drawing"
   ]
  },
  {
   "cell_type": "code",
   "execution_count": null,
   "metadata": {},
   "outputs": [],
   "source": [
    "D1 = np.array([\n",
    "    [1, 1, 0, 0, 0],\n",
    "    [-1, 0, 1, 1, 0],\n",
    "    [0, 0, -1, 0, 1],\n",
    "    [0, -1, 0, -1, -1]\n",
    "])\n",
    "c_oriented = np.array([1, 0, 0, 1, -1])\n",
    "z_oriented = np.array([1, -1, 1, 0, 1])\n",
    "D1 @ c_oriented, D1 @ z_oriented"
   ]
  },
  {
   "cell_type": "markdown",
   "metadata": {},
   "source": [
    "## 1. Simplicial complexes topology"
   ]
  },
  {
   "cell_type": "markdown",
   "metadata": {},
   "source": [
    "**Exercise**: create a simplicial complex consisting of 7 vertices and 6 edges"
   ]
  },
  {
   "cell_type": "code",
   "execution_count": null,
   "metadata": {},
   "outputs": [],
   "source": [
    "# create simplicial complex\n",
    "cmplx = simplicial.SimplicialComplex()"
   ]
  },
  {
   "cell_type": "code",
   "execution_count": null,
   "metadata": {},
   "outputs": [],
   "source": [
    "# add 0-simplices (vertices)\n",
    "v1 = cmplx.addSimplex(id=\"v1\")\n",
    "v2 = cmplx.addSimplex(id=\"v2\")\n",
    "v3 = cmplx.addSimplex(id=\"v3\")\n",
    "v4 = cmplx.addSimplex(id=\"v4\")\n",
    "v5 = cmplx.addSimplex(id=\"v5\")\n",
    "v6 = cmplx.addSimplex(id=\"v6\")\n",
    "v7 = cmplx.addSimplex(id=\"v7\")"
   ]
  },
  {
   "cell_type": "code",
   "execution_count": null,
   "metadata": {},
   "outputs": [],
   "source": [
    "# add 1-simplices (edges)\n",
    "cmplx.addSimplex(['v2', 'v3'], id=\"e1\")\n",
    "cmplx.addSimplex(['v4', 'v5'], id=\"e2\")\n",
    "cmplx.addSimplex(['v4', 'v6'], id=\"e3\")\n",
    "cmplx.addSimplex(['v5', 'v6'], id=\"e4\")\n",
    "cmplx.addSimplex(['v5', 'v7'], id=\"e5\")\n",
    "cmplx.addSimplex(['v6', 'v7'], id=\"e6\")"
   ]
  },
  {
   "cell_type": "code",
   "execution_count": null,
   "metadata": {},
   "outputs": [],
   "source": [
    "# set coordinates for vertices\n",
    "em = simplicial.Embedding(cmplx)\n",
    "em.positionSimplex(v1, (0.0, 0.5))\n",
    "\n",
    "em.positionSimplex(v2, (0.25, 1.0))\n",
    "em.positionSimplex(v3, (0.25, 0.0))\n",
    "\n",
    "em.positionSimplex(v4, (1.0, 1.0))\n",
    "em.positionSimplex(v5, (0.5, 0.66))\n",
    "em.positionSimplex(v6, (1.0, 0.33))\n",
    "em.positionSimplex(v7, (0.5, 0.0))\n",
    "\n",
    "# draw simplicial complex\n",
    "fig = plt.figure(figsize=(6,6))\n",
    "plt.title(\"Geometric realization of simplicial complex\")\n",
    "simplicial.drawing.draw_complex(cmplx, em)"
   ]
  },
  {
   "cell_type": "markdown",
   "metadata": {},
   "source": [
    "### Betti numbers\n",
    "\n",
    "_K-th Betti number_ of topological space is the rank of its' associated _k-th homological group_ and describes the number of holes of dimension $k+1$.\n",
    "\n",
    "- 0-dimensional holes are connected components\n",
    "- 1-dimensional holes are loops\n",
    "- 2-dimensional holes are voids"
   ]
  },
  {
   "cell_type": "markdown",
   "metadata": {},
   "source": [
    "**Exercise**\n",
    "\n",
    "Evaluate the dimensionality and non-vanishing Betti numbers of a simplicial complex"
   ]
  },
  {
   "cell_type": "code",
   "execution_count": null,
   "metadata": {},
   "outputs": [],
   "source": [
    "# evaluate complex dimension\n",
    "dim = cmplx.maxOrder()\n",
    "\n",
    "# evaluate Betti numbers\n",
    "betti = cmplx.bettiNumbers()"
   ]
  },
  {
   "cell_type": "code",
   "execution_count": null,
   "metadata": {},
   "outputs": [],
   "source": [
    "print(\"Dimension of complex: {}\".format(dim))\n",
    "for key in betti:\n",
    "    if key <= dim:\n",
    "        print(\"Betti-{}: {}\".format(str(key), betti[key]))"
   ]
  },
  {
   "cell_type": "markdown",
   "metadata": {},
   "source": [
    "### Modifying the topology of the simplicial complex\n",
    "\n",
    "**Exercise**\n",
    "\n",
    "Modify the topology of the simplicial complex by \"filling\" one of its' 2-dimensional holes by a 2-simplex which is a triangle."
   ]
  },
  {
   "cell_type": "code",
   "execution_count": null,
   "metadata": {},
   "outputs": [],
   "source": [
    "# add 2-simplex (triangle)\n",
    "cmplx.addSimplex(['e2', 'e3', 'e4'], id=\"t1\")"
   ]
  },
  {
   "cell_type": "code",
   "execution_count": null,
   "metadata": {},
   "outputs": [],
   "source": [
    "# draw simplicial complex\n",
    "fig = plt.figure(figsize=(6,6))\n",
    "plt.title(\"Geometric realization of simplicial complex\")\n",
    "simplicial.drawing.draw_complex(cmplx, em)"
   ]
  },
  {
   "cell_type": "code",
   "execution_count": null,
   "metadata": {},
   "outputs": [],
   "source": [
    "# evaluate complex dimension\n",
    "dim = cmplx.maxOrder()\n",
    "\n",
    "# evaluate Betti numbers\n",
    "betti = cmplx.bettiNumbers()"
   ]
  },
  {
   "cell_type": "code",
   "execution_count": null,
   "metadata": {},
   "outputs": [],
   "source": [
    "print(\"Dimension of complex: {}\".format(dim))\n",
    "for key in betti:\n",
    "    if key <= dim:\n",
    "        print(\"Betti-{}: {}\".format(str(key), betti[key]))"
   ]
  },
  {
   "cell_type": "markdown",
   "metadata": {},
   "source": [
    "## 2. Computing simplicial homology"
   ]
  },
  {
   "cell_type": "code",
   "execution_count": null,
   "metadata": {},
   "outputs": [],
   "source": [
    "# create simplicial complex\n",
    "K = simplicial.SimplicialComplex()\n",
    "\n",
    "# add 0-simplices (vertices)\n",
    "v1 = K.addSimplex(id=\"1\")\n",
    "v2 = K.addSimplex(id=\"2\")\n",
    "v3 = K.addSimplex(id=\"3\")\n",
    "v4 = K.addSimplex(id=\"4\")\n",
    "\n",
    "# add 1-simplices (edges)\n",
    "K.addSimplex(['1', '2'], id=\"12\")\n",
    "K.addSimplex(['1', '4'], id=\"14\")\n",
    "K.addSimplex(['2', '3'], id=\"23\")\n",
    "K.addSimplex(['2', '4'], id=\"24\")\n",
    "K.addSimplex(['3', '4'], id=\"34\")\n",
    "\n",
    "# add 2-simplices (triangles)\n",
    "K.addSimplex(['23', '24', '34'], id=\"234\")\n",
    "\n",
    "# positions\n",
    "offset = (-0.05, 0.075)\n",
    "pos = [(0.0, 0.5), (0.5, 1.0), (1.0, 0.5), (0.5, 0.0)]\n",
    "\n",
    "# set positions for vertices\n",
    "em = simplicial.Embedding(K)\n",
    "em.positionSimplex(v1, pos[0])\n",
    "em.positionSimplex(v2, pos[1])\n",
    "em.positionSimplex(v3, pos[2])\n",
    "em.positionSimplex(v4, pos[3])\n",
    "\n",
    "# draw simplicial complex\n",
    "fig = plt.figure(figsize=(6,4.5))\n",
    "plt.title(\"Geometric realization of simplicial complex K\")\n",
    "for i in range(4):\n",
    "    plt.text(pos[i][0] + offset[0], pos[i][1] + offset[1], str(i+1), fontsize=16)\n",
    "simplicial.drawing.draw_complex(K, em)"
   ]
  },
  {
   "cell_type": "markdown",
   "metadata": {},
   "source": [
    "### Spaces of simplices\n",
    "\n",
    "Given a simplicial complex $K = \\{\\emptyset, 1, 2, 3, 4, 12, 14, 23, 24, 34, 234\\}$ its spaces of simplices are\n",
    "\n",
    "$$\n",
    "\\begin{align}\n",
    "\\Delta_0 &= \\{0, 1, 2, 3\\}\\\\\n",
    "\\Delta_1 &= \\{12, 14, 23, 24, 34 \\}\\\\\n",
    "\\Delta_2 &= \\{234 \\}\n",
    "\\end{align}\n",
    "$$"
   ]
  },
  {
   "cell_type": "markdown",
   "metadata": {},
   "source": [
    "### Chain spaces\n",
    "\n",
    "Chain space $C_k$ is defined as a formal sum of $k$-simplicies with coefficients in a field $\\mathbb{k}$\n",
    "\n",
    "$$c_k = \\sum_i \\alpha \\sigma_i \\in C_k,~\\textrm{where}~\\sigma_i \\in \\Delta_k, \\alpha \\in \\mathbb{k}$$\n",
    "\n",
    "#### Examples\n",
    "\n",
    "Vertex chains $C_0$\n",
    "\n",
    "$$\n",
    "c_0 = [0] \\sim [0 * 1 + 0 * 2 + 0 * 3 + 0 * 4]\\\\\n",
    "c_0' = [1 + 2 + 4] ~ [1 * 1 + 1 * 2 + 0 * 3 + 1 * 4]\n",
    "$$\n",
    "\n",
    "Edge chains $C_1$\n",
    "\n",
    "$$\n",
    "c_1 = [12 + 23 + 34]\\\\\n",
    "c_1' = [12 + 14 + 23 + 34]\n",
    "$$\n",
    "\n",
    "Triangle chains $C_2$\n",
    "\n",
    "$$\n",
    "c_2 = [234]\\\\\n",
    "$$"
   ]
  },
  {
   "cell_type": "markdown",
   "metadata": {},
   "source": [
    "#### Summation\n",
    "\n",
    "One can take sums of chains, over $\\mathbb{Z}_2$ the summation is defined modulo 2\n",
    "\n",
    "$$\n",
    "\\begin{align}\n",
    "c_1 + c_1' &= [12 + 23 + 34] + [12 + 14 + 24 + 34]\\\\\n",
    "&= [14 + 23 + 24]\n",
    "\\end{align}\n",
    "$$"
   ]
  },
  {
   "cell_type": "code",
   "execution_count": null,
   "metadata": {},
   "outputs": [],
   "source": [
    "# 12, 14, 23, 24, 34\n",
    "c1 = np.array([1, 0, 1, 0, 1])\n",
    "c1_prime = np.array([1, 1, 0, 1, 1])\n",
    "(c1 + c1_prime) % 2"
   ]
  },
  {
   "cell_type": "code",
   "execution_count": null,
   "metadata": {},
   "outputs": [],
   "source": [
    "# draw simplicial complex\n",
    "fig = plt.figure(figsize=(6,4.5))\n",
    "plt.title(\"Geometric realization of simplicial complex K\")\n",
    "for i in range(4):\n",
    "    plt.text(pos[i][0] + offset[0], pos[i][1] + offset[1], str(i+1), fontsize=16)\n",
    "simplicial.drawing.draw_complex(K, em)"
   ]
  },
  {
   "cell_type": "markdown",
   "metadata": {},
   "source": [
    "### Boundary operator\n",
    "\n",
    "Given a $k$-simplex $\\sigma = [v_0, v_1, \\dots, v_n] \\in \\Delta_k$ its boundary $\\partial_k \\sigma \\in \\Delta_{k-1}$ is defined\n",
    "\n",
    "$$\\partial_k \\sigma = \\sum_{i=0}^k~[v_0, v_1, \\dots, v_i, v_{i+1}, \\dots, v_k]$$\n",
    "\n",
    "#### Examples\n",
    "\n",
    "Edge\n",
    "\n",
    "$$c_1 = 12\\\\\n",
    "\\partial c_1 = 2 + 1$$\n",
    "\n",
    "Triangle\n",
    "\n",
    "$$c_2 = 234\\\\\n",
    "\\partial c_2 = 34 + 24 + 23$$"
   ]
  },
  {
   "cell_type": "markdown",
   "metadata": {},
   "source": [
    "#### Matrix representation\n",
    "\n",
    "Boundary operator $\\partial_k$ for a fixed basis can be represented by a matrix $\\mathbf{B}_k$ having $k$-simplices $\\sigma$ on columns and $k-1$-simplices $\\tau$ on rows and $b_{ij} = 1$ if $\\tau$ is in a boundary of $\\sigma$."
   ]
  },
  {
   "cell_type": "code",
   "execution_count": null,
   "metadata": {},
   "outputs": [],
   "source": [
    "# 12, 14, 23, 24, 34 -- columns\n",
    "# 1, 2, 3, 4 -- rows\n",
    "B1 = np.array([\n",
    "    [1, 1, 0, 0, 0],\n",
    "    [1, 0, 1, 1, 0],\n",
    "    [0, 0, 1, 0, 1],\n",
    "    [0, 1, 0, 1, 1]\n",
    "])"
   ]
  },
  {
   "cell_type": "code",
   "execution_count": null,
   "metadata": {},
   "outputs": [],
   "source": [
    "# draw simplicial complex\n",
    "fig = plt.figure(figsize=(6,4.5))\n",
    "plt.title(\"Geometric realization of simplicial complex K\")\n",
    "for i in range(4):\n",
    "    plt.text(pos[i][0] + offset[0], pos[i][1] + offset[1], str(i+1), fontsize=16)\n",
    "simplicial.drawing.draw_complex(K, em)"
   ]
  },
  {
   "cell_type": "markdown",
   "metadata": {},
   "source": [
    "### Boundaries of chains"
   ]
  },
  {
   "cell_type": "markdown",
   "metadata": {},
   "source": [
    "#### Boundary of a chain\n",
    "\n",
    "Boundary operator is linear\n",
    "\n",
    "$$\n",
    "\\begin{align}\n",
    "c &= 12 + 24 + 34\\\\\\\\\n",
    "\\partial c &= \\partial(12 + 24 + 34)\\\\\n",
    "\\partial c &= \\partial(12) + \\partial(24) + \\partial(34)\\\\\n",
    "\\partial c &= (2 + 1) + (4 + 2) + (4 + 3)\\\\\n",
    "\\partial c &= 1 + 3\n",
    "\\end{align}\n",
    "$$"
   ]
  },
  {
   "cell_type": "code",
   "execution_count": null,
   "metadata": {},
   "outputs": [],
   "source": [
    "c = np.array([1, 0, 0, 1, 1]) # 1*12 + 0*14 + 0*23 + 1*24 + 1*34\n",
    "B1 @ c % 2"
   ]
  },
  {
   "cell_type": "code",
   "execution_count": null,
   "metadata": {},
   "outputs": [],
   "source": [
    "# draw simplicial complex\n",
    "fig = plt.figure(figsize=(6,4.5))\n",
    "plt.title(\"Geometric realization of simplicial complex K\")\n",
    "for i in range(4):\n",
    "    plt.text(pos[i][0] + offset[0], pos[i][1] + offset[1], str(i+1), fontsize=16)\n",
    "simplicial.drawing.draw_complex(K, em)"
   ]
  },
  {
   "cell_type": "markdown",
   "metadata": {},
   "source": [
    "#### Boundary of a cycle\n",
    "\n",
    "$$\n",
    "\\begin{align}\n",
    "z &= 12 + 14 + 23 + 34\\\\\\\\\n",
    "\\partial z &= \\partial(12) + \\partial(14) + \\partial(23) + \\partial(34)\\\\\n",
    "\\partial z &= (2 + 1) + (4 + 1) + (2 + 3) + (4 + 3)\\\\\n",
    "\\partial z &= 0\n",
    "\\end{align}\n",
    "$$"
   ]
  },
  {
   "cell_type": "code",
   "execution_count": null,
   "metadata": {},
   "outputs": [],
   "source": [
    "z = np.array([1, 1, 1, 0, 1])\n",
    "B1 @ z % 2"
   ]
  },
  {
   "cell_type": "markdown",
   "metadata": {},
   "source": [
    "#### Exercise\n",
    "\n",
    "Find the boundary of the other cycle in the complex $K$."
   ]
  },
  {
   "cell_type": "code",
   "execution_count": null,
   "metadata": {},
   "outputs": [],
   "source": [
    "# your code here"
   ]
  },
  {
   "cell_type": "markdown",
   "metadata": {},
   "source": [
    "### Chain complex\n",
    "\n",
    "Chain complex is a sequence of chain spaces connected with boundary maps\n",
    "\n",
    "$$C_2 \\xrightarrow{\\partial_2} C_1  \\xrightarrow{\\partial_1} C_0$$\n",
    "\n",
    "For a given chain space $C_k$ the space of cycles $Z_k$ consists of all elements of $C_k$ which boundary $\\partial_k$ is zero.\n",
    "\n",
    "$$\n",
    "\\begin{align}\n",
    "Z_k &= \\mathrm{ker}~\\partial_k\\\\\n",
    "Z_k &= \\{ c \\in C_k \\mid \\partial_k = 0 \\}\\\\\\\\\n",
    "B_k &= \\mathrm{im}~\\partial_{k+1}\\\\\n",
    "B_k &= \\{ c \\in C_k \\mid \\partial_{k+1}d = c,~\\mathrm{for~some}~d \\in C_{k+1} \\}\n",
    "\\end{align}\n",
    "$$\n",
    "\n",
    "Hierarchy of spaces\n",
    "\n",
    "$$B_k \\subset Z_k \\subset C_k$$"
   ]
  },
  {
   "cell_type": "code",
   "execution_count": null,
   "metadata": {},
   "outputs": [],
   "source": [
    "# draw simplicial complex\n",
    "fig = plt.figure(figsize=(6,4.5))\n",
    "plt.title(\"Geometric realization of simplicial complex K\")\n",
    "for i in range(4):\n",
    "    plt.text(pos[i][0] + offset[0], pos[i][1] + offset[1], str(i+1), fontsize=16)\n",
    "simplicial.drawing.draw_complex(K, em)"
   ]
  },
  {
   "cell_type": "markdown",
   "metadata": {},
   "source": [
    "### Cycles and boundaries groups of $K$"
   ]
  },
  {
   "cell_type": "markdown",
   "metadata": {},
   "source": [
    "$$Z_1 = \\{ [12 + 14 + 24], [12 + 14 + 23 + 34] \\}$$\n",
    "$$B_1 = \\{[23 + 24 + 34]\\}$$"
   ]
  },
  {
   "cell_type": "markdown",
   "metadata": {},
   "source": [
    "#### Homologous cycles\n",
    "\n",
    "Two cycles $c_1$ and $c_2$ are said homologous $c_1 \\sim c_2$ if their difference $c_1 - c_2 \\in B_k$."
   ]
  },
  {
   "cell_type": "code",
   "execution_count": null,
   "metadata": {},
   "outputs": [],
   "source": [
    "z1 = np.array([1, 1, 0, 1, 0])\n",
    "z2 = np.array([1, 1, 1, 0, 1])"
   ]
  },
  {
   "cell_type": "code",
   "execution_count": null,
   "metadata": {},
   "outputs": [],
   "source": [
    "(z1 - z2) % 2 # 0*12 + 0*14 + 23 + 24 + 34"
   ]
  },
  {
   "cell_type": "markdown",
   "metadata": {},
   "source": [
    "#### Homology group\n",
    "\n",
    "$$\n",
    "\\begin{align}\n",
    "H_k &= \\mathrm{ker}~\\partial_k~/~\\mathrm{im}~\\partial_{k+1}\\\\\n",
    "H_k &= Z_k~/~B_k\n",
    "\\end{align}\n",
    "$$\n",
    "\n",
    "#### Naive algorithm\n",
    "\n",
    "Check for all cycles in $Z_k$ where their difference is an element (or combination) of $B_k$."
   ]
  },
  {
   "cell_type": "markdown",
   "metadata": {},
   "source": [
    "## 3. Computing homology algorithmically\n",
    "\n",
    "#### Boundary matrix of a complex"
   ]
  },
  {
   "cell_type": "code",
   "execution_count": null,
   "metadata": {},
   "outputs": [],
   "source": [
    "B0 = np.array([[0, 0, 0, 0]]) # 1, 2, 3, 4\n",
    "B1 = np.array([\n",
    "    [1, 1, 0, 0, 0],\n",
    "    [1, 0, 1, 1, 0],\n",
    "    [0, 0, 1, 0, 1],\n",
    "    [0, 1, 0, 1, 1]\n",
    "]) # 12, 14, 23, 24, 34\n",
    "B2 = np.array([[0, 0, 1, 1, 1]]).T # 234\n",
    "B = block_diag(B0, B1, B2)"
   ]
  },
  {
   "cell_type": "code",
   "execution_count": null,
   "metadata": {},
   "outputs": [],
   "source": [
    "B"
   ]
  },
  {
   "cell_type": "markdown",
   "metadata": {},
   "source": [
    "#### Boundary matrix reduction algorithm\n",
    "\n",
    "![Matrix reduction](./img/reduction.png)"
   ]
  },
  {
   "cell_type": "code",
   "execution_count": null,
   "metadata": {},
   "outputs": [],
   "source": [
    "# your code here\n",
    "R = #???"
   ]
  }
 ],
 "metadata": {
  "@webio": {
   "lastCommId": null,
   "lastKernelId": null
  },
  "kernelspec": {
   "display_name": "Python 3 (ipykernel)",
   "language": "python",
   "name": "python3"
  },
  "language_info": {
   "codemirror_mode": {
    "name": "ipython",
    "version": 3
   },
   "file_extension": ".py",
   "mimetype": "text/x-python",
   "name": "python",
   "nbconvert_exporter": "python",
   "pygments_lexer": "ipython3",
   "version": "3.10.2"
  }
 },
 "nbformat": 4,
 "nbformat_minor": 2
}
